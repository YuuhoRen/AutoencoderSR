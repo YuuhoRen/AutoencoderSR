{
 "cells": [
  {
   "cell_type": "code",
   "execution_count": 1,
   "id": "1b58d19b",
   "metadata": {},
   "outputs": [],
   "source": [
    "import matplotlib.pyplot as plt\n",
    "import numpy as np\n",
    "import torch\n",
    "import torch.nn as nn\n",
    "import torch.optim as optim\n",
    "from torch.utils.data import random_split\n",
    "from torch.nn import functional as F\n",
    "import torchvision\n",
    "from torchvision import datasets,transforms\n",
    "from torchvision.datasets import ImageFolder\n",
    "from torch.utils.data import DataLoader\n",
    "\n",
    "import optuna\n",
    "import os\n",
    "import math\n",
    "import matplotlib.pyplot as plt\n",
    "import random"
   ]
  },
  {
   "cell_type": "code",
   "execution_count": 2,
   "id": "9ac2ab18",
   "metadata": {},
   "outputs": [],
   "source": [
    "seed = 42 \n",
    "torch.manual_seed(seed)\n",
    "\n",
    "\n",
    "torch.cuda.manual_seed_all(seed)\n",
    "\n",
    "\n",
    "torch.backends.cudnn.deterministic = True\n",
    "\n",
    "\n",
    "np.random.seed(seed)\n",
    "\n",
    "if torch.cuda.is_available():\n",
    "    torch.cuda.manual_seed(seed)\n",
    "    torch.cuda.manual_seed_all(seed)\n",
    "\n",
    "random.seed(seed)"
   ]
  },
  {
   "cell_type": "code",
   "execution_count": 3,
   "id": "ccca951a",
   "metadata": {},
   "outputs": [],
   "source": [
    "transform = transforms.Compose([\n",
    "  #  transforms.Resize((224, 224)),  \n",
    "    transforms.Grayscale(num_output_channels=1),\n",
    "    transforms.ToTensor(),  \n",
    "  #  transforms.Normalize(mean=[0.485, 0.456, 0.406], std=[0.229, 0.224, 0.225])  \n",
    "])\n",
    "\n",
    "data_dir = \"./data/olivetti2/\" \n",
    "dataset = datasets.ImageFolder(data_dir, transform=transform)\n",
    "\n",
    "total_size = len(dataset)\n",
    "train_size = int(0.8 * total_size)  \n",
    "test_size = total_size - train_size \n",
    "\n",
    "train_dataset, test_dataset = random_split(dataset, [train_size, test_size])\n",
    "\n",
    "batch_size = 32\n",
    "train_loader = torch.utils.data.DataLoader(train_dataset, batch_size=batch_size, shuffle=True)\n",
    "test_loader = torch.utils.data.DataLoader(test_dataset, batch_size=batch_size)"
   ]
  },
  {
   "cell_type": "code",
   "execution_count": 4,
   "id": "55f95708",
   "metadata": {},
   "outputs": [
    {
     "data": {
      "text/plain": [
       "800"
      ]
     },
     "execution_count": 4,
     "metadata": {},
     "output_type": "execute_result"
    }
   ],
   "source": [
    "len(test_dataset)"
   ]
  },
  {
   "cell_type": "code",
   "execution_count": 5,
   "id": "3e435800",
   "metadata": {},
   "outputs": [],
   "source": [
    "class Raylu(nn.Module): \n",
    "    def __init__(self, seqFlag, trial):\n",
    "        super().__init__()\n",
    "        self.sigma = trial.suggest_float(f'$\\sigma_{seqFlag}$',0,10) \n",
    "\n",
    "    def forward(self, input):\n",
    "        x = torch.where(input>=0, input, input*torch.exp(-input**2/self.sigma**2/2))\n",
    "        return x"
   ]
  },
  {
   "cell_type": "code",
   "execution_count": 5,
   "id": "9f2c392c",
   "metadata": {},
   "outputs": [],
   "source": [
    "class Pgelu(nn.Module): \n",
    "    def __init__(self, seqFlag, trial):\n",
    "        super().__init__()\n",
    "        self.sigma = trial.suggest_float(f'$\\sigma_{seqFlag}$',0,10) \n",
    "\n",
    "    def forward(self, input):\n",
    "    #    sigma = trial.suggest_float('sigma1',0,10)\n",
    "        temp2=input/2*(1+torch.erf(input/math.sqrt(2)/self.sigma))\n",
    "        return temp2"
   ]
  },
  {
   "cell_type": "code",
   "execution_count": 6,
   "id": "57821c6b",
   "metadata": {},
   "outputs": [],
   "source": [
    "class Exlu(nn.Module): \n",
    "    def __init__(self, seqFlag, trial):\n",
    "        super().__init__()\n",
    "        self.sigma = trial.suggest_float(f'$\\sigma_{seqFlag}$',0,10) \n",
    "\n",
    "    def forward(self, input):\n",
    "        temp1=torch.max(torch.zeros_like(input), input)\n",
    "        temp2=torch.min(torch.zeros_like(input), input*torch.exp(input / self.sigma))\n",
    "        \n",
    "        return temp1+temp2"
   ]
  },
  {
   "cell_type": "code",
   "execution_count": 7,
   "id": "e5692463",
   "metadata": {},
   "outputs": [],
   "source": [
    "class sigmaSwish(nn.Module): \n",
    "    def __init__(self, seqFlag, trial):\n",
    "        super().__init__()\n",
    "        self.sigma = trial.suggest_float(f'$\\sigma_{seqFlag}$',0,10) \n",
    "\n",
    "    def forward(self, input):\n",
    "        temp1=input * torch.sigmoid(input / self.sigma)\n",
    "        \n",
    "        return temp1"
   ]
  },
  {
   "cell_type": "code",
   "execution_count": 8,
   "id": "b3297d50",
   "metadata": {},
   "outputs": [],
   "source": [
    "class myELU(nn.Module): \n",
    "    def __init__(self, seqFlag, trial):\n",
    "        super().__init__()\n",
    "        self.sigma = trial.suggest_float(f'$\\sigma_{seqFlag}$',0,10) \n",
    "\n",
    "    def forward(self, input):\n",
    "        temp1=torch.max(torch.zeros_like(input), input)\n",
    "        temp2=torch.min(torch.zeros_like(input), (torch.exp(input) - 1) / self.sigma)\n",
    "        return temp1+temp2"
   ]
  },
  {
   "cell_type": "code",
   "execution_count": 6,
   "id": "ada09ec4",
   "metadata": {},
   "outputs": [],
   "source": [
    "class Encoder(nn.Module):\n",
    "    def __init__(self, trial):\n",
    "        super(Encoder, self).__init__()\n",
    "   #     self.flatten = nn.Flatten() \n",
    "        self.conv1 = nn.Conv2d(1, 16, 3, stride=2, padding=1)\n",
    "        self.conv2 = nn.Conv2d(16, 32, 3, stride=2, padding=1)\n",
    "        self.conv3 = nn.Conv2d(32, 64, 3, stride=2, padding=1)\n",
    "        self.bn1 = nn.BatchNorm2d(16)\n",
    "        self.bn2 = nn.BatchNorm2d(32)\n",
    "        self.bn3 = nn.BatchNorm2d(64)\n",
    "        self.func1 = Raylu(1, trial)\n",
    "        self.func2 = Raylu(2, trial)\n",
    "        self.func3 = Raylu(3, trial)\n",
    "        self.func4 = Raylu(4, trial)\n",
    "        \n",
    "        self.flatten = nn.Flatten(start_dim=1)\n",
    "        self.line1 = nn.Linear(8 * 8 * 64, 256)\n",
    "        self.line2 = nn.Linear(256, 30)\n",
    "        \n",
    "\n",
    "    def forward(self, x):\n",
    "        x = self.conv1(x)\n",
    "        x = self.bn1(x)\n",
    "        x = self.func1(x)\n",
    "        x = self.conv2(x)\n",
    "        x = self.bn2(x)\n",
    "        x = self.func2(x)\n",
    "        x = self.conv3(x)\n",
    "        x = self.bn3(x)\n",
    "        x = self.func3(x)\n",
    "        \n",
    "        x = self.flatten(x)\n",
    "        \n",
    "        x = self.line1(x)\n",
    "        x = x = self.func4(x)\n",
    "        x = self.line2(x)\n",
    "        return x"
   ]
  },
  {
   "cell_type": "code",
   "execution_count": 7,
   "id": "ebb3625c",
   "metadata": {},
   "outputs": [],
   "source": [
    "class Decoder(nn.Module):\n",
    "    def __init__(self, trial):\n",
    "        super(Decoder, self).__init__()\n",
    "        self.line1 = nn.Linear(30, 256)\n",
    "        self.line2 = nn.Linear(256, 8 * 8 * 64)\n",
    "        \n",
    "        self.unflatten = nn.Unflatten(dim=1, unflattened_size=(64, 8, 8))\n",
    "        \n",
    "        self.func5 = Raylu(5, trial)\n",
    "        self.func6 = Raylu(6, trial)\n",
    "        self.func7 = Raylu(7, trial)\n",
    "        self.func8 = Raylu(8, trial)\n",
    "        \n",
    "        self.convT1 = nn.ConvTranspose2d(64, 32, 3, stride=2,padding=1, output_padding=1)\n",
    "        self.convT2 = nn.ConvTranspose2d(32, 16, 3, stride=2,padding=1, output_padding=1)\n",
    "        self.convT3 = nn.ConvTranspose2d(16, 1, 3, stride=2, padding=1, output_padding=1)\n",
    "        \n",
    "        self.bn1 = nn.BatchNorm2d(32)\n",
    "        self.bn2 = nn.BatchNorm2d(16)\n",
    "        \n",
    "        \n",
    "    def forward(self, x):\n",
    "        x = self.line1(x)\n",
    "        x = self.func5(x)\n",
    "        x = self.line2(x)\n",
    "        x = self.func6(x)\n",
    "        \n",
    "        x = self.unflatten(x)\n",
    "        \n",
    "        x = self.convT1(x)\n",
    "        x = self.bn1(x)\n",
    "        x = self.func7(x)\n",
    "        x = self.convT2(x)\n",
    "        x = self.bn2(x)\n",
    "        x = self.func8(x)\n",
    "        x = self.convT3(x)\n",
    "        \n",
    "        x = torch.sigmoid(x)\n",
    "        \n",
    "        return x"
   ]
  },
  {
   "cell_type": "code",
   "execution_count": 13,
   "id": "98403bcd",
   "metadata": {},
   "outputs": [],
   "source": [
    "# Set random seed for PyTorch\n",
    "seed = 0  # You can use any integer as the seed\n",
    "torch.manual_seed(seed)\n",
    "\n",
    "\n",
    "torch.cuda.manual_seed_all(seed)\n",
    "\n",
    "\n",
    "torch.backends.cudnn.deterministic = True\n",
    "\n",
    "\n",
    "np.random.seed(seed)\n",
    "\n",
    "if torch.cuda.is_available():\n",
    "    torch.cuda.manual_seed(seed)\n",
    "    torch.cuda.manual_seed_all(seed)\n",
    "\n",
    "random.seed(seed)"
   ]
  },
  {
   "cell_type": "code",
   "execution_count": 14,
   "id": "a86317a9",
   "metadata": {},
   "outputs": [],
   "source": [
    "def objective(trial):\n",
    "\n",
    "    # Generate the model.\n",
    " #   bottleNeck = 10\n",
    "\n",
    "    device = torch.device(\"cuda\" if torch.cuda.is_available() else \"cpu\")\n",
    "    encoder = Encoder(trial).to(device)\n",
    "    decoder = Decoder(trial).to(device)\n",
    "    criterion = nn.MSELoss()\n",
    "    optimizer = optim.Adam(list(encoder.parameters()) + list(decoder.parameters()), lr=0.001)\n",
    "\n",
    "    EPOCHS = 100\n",
    "\n",
    "     \n",
    "    for epoch in range(EPOCHS):\n",
    "        encoder.train()\n",
    "        decoder.train()\n",
    "        train_loss = 0.0\n",
    "\n",
    "        for data in train_loader:\n",
    "            inputs, _ = data\n",
    "            inputs = inputs.to(device)\n",
    "\n",
    "      \n",
    "            optimizer.zero_grad()\n",
    "\n",
    "      \n",
    "            encoded = encoder(inputs)\n",
    "            outputs = decoder(encoded)\n",
    "\n",
    "       \n",
    "            loss = criterion(outputs, inputs)\n",
    "\n",
    "    \n",
    "            loss.backward()\n",
    "            optimizer.step()\n",
    "\n",
    "            train_loss += loss.item() * inputs.size(0)\n",
    "        train_loss = train_loss / len(train_loader.dataset)\n",
    "        \n",
    "        \n",
    "       \n",
    "        encoder.eval()\n",
    "        decoder.eval()\n",
    "        test_loss = 0.0\n",
    "  #      global test_loss_save\n",
    "\n",
    "        with torch.no_grad():\n",
    "            for data in test_loader:\n",
    "                inputs, _ = data\n",
    "                inputs = inputs.to(device)\n",
    "\n",
    "                # Forward pass\n",
    "                encoded = encoder(inputs)\n",
    "                outputs = decoder(encoded)\n",
    "\n",
    "                # Compute the loss\n",
    "                loss = criterion(outputs, inputs)\n",
    "\n",
    "                test_loss += loss.item() * inputs.size(0)\n",
    "    \n",
    "        testLossTemp = test_loss / len(test_loader.dataset)\n",
    "    #    test_loss_save.append(testLossTemp)\n",
    "\n",
    "        trial.report(testLossTemp, epoch)\n",
    "\n",
    "        # Handle pruning based on the intermediate value.\n",
    "        if trial.should_prune():\n",
    "            raise optuna.exceptions.TrialPruned()\n",
    "\n",
    "    return testLossTemp"
   ]
  },
  {
   "cell_type": "code",
   "execution_count": 15,
   "id": "c39cb72c",
   "metadata": {},
   "outputs": [
    {
     "name": "stderr",
     "output_type": "stream",
     "text": [
      "[I 2023-12-15 22:00:18,983] A new study created in memory with name: no-name-3bd2bba9-0e54-4f5b-9eef-bb08ecf57927\n",
      "[I 2023-12-15 22:05:06,991] Trial 0 finished with value: 0.002892269231379032 and parameters: {'$\\\\sigma_1$': 1.9674637815020612, '$\\\\sigma_2$': 0.6676305376583513, '$\\\\sigma_3$': 1.3789817442393837, '$\\\\sigma_4$': 5.569757169324358, '$\\\\sigma_5$': 6.213179804115124, '$\\\\sigma_6$': 8.697931938935486, '$\\\\sigma_7$': 5.757243664676884, '$\\\\sigma_8$': 0.05845339583339104}. Best is trial 0 with value: 0.002892269231379032.\n",
      "[I 2023-12-15 22:10:35,655] Trial 1 finished with value: 0.0031383545696735383 and parameters: {'$\\\\sigma_1$': 3.029905492512055, '$\\\\sigma_2$': 5.940730462232663, '$\\\\sigma_3$': 1.4914330898936912, '$\\\\sigma_4$': 0.8967699842969523, '$\\\\sigma_5$': 8.52705124779903, '$\\\\sigma_6$': 2.5308841298501097, '$\\\\sigma_7$': 5.94968648919164, '$\\\\sigma_8$': 9.301811722258456}. Best is trial 0 with value: 0.002892269231379032.\n",
      "[I 2023-12-15 22:16:00,445] Trial 2 finished with value: 0.003073030561208725 and parameters: {'$\\\\sigma_1$': 7.291703348982774, '$\\\\sigma_2$': 0.39036556207294293, '$\\\\sigma_3$': 4.188375265183016, '$\\\\sigma_4$': 3.922760412645705, '$\\\\sigma_5$': 2.0512069865582214, '$\\\\sigma_6$': 3.3398702432800365, '$\\\\sigma_7$': 2.667805063832925, '$\\\\sigma_8$': 0.5403668000415418}. Best is trial 0 with value: 0.002892269231379032.\n",
      "[I 2023-12-15 22:21:08,954] Trial 3 finished with value: 0.002969078505411744 and parameters: {'$\\\\sigma_1$': 8.553716153949825, '$\\\\sigma_2$': 3.562009212227921, '$\\\\sigma_3$': 0.936127624884977, '$\\\\sigma_4$': 3.8001223898607464, '$\\\\sigma_5$': 5.208719192798328, '$\\\\sigma_6$': 0.20100947695909754, '$\\\\sigma_7$': 0.8442961234971447, '$\\\\sigma_8$': 3.132662747512669}. Best is trial 0 with value: 0.002892269231379032.\n",
      "[I 2023-12-15 22:25:48,024] Trial 4 finished with value: 0.003244082806631923 and parameters: {'$\\\\sigma_1$': 0.4356415778563383, '$\\\\sigma_2$': 1.0948563866023941, '$\\\\sigma_3$': 6.934249411214761, '$\\\\sigma_4$': 8.886316972796987, '$\\\\sigma_5$': 0.4853664671094382, '$\\\\sigma_6$': 3.2819190664490128, '$\\\\sigma_7$': 9.30634556137963, '$\\\\sigma_8$': 4.328613754065581}. Best is trial 0 with value: 0.002892269231379032.\n",
      "[I 2023-12-15 22:26:01,714] Trial 5 pruned. \n",
      "[I 2023-12-15 22:26:04,468] Trial 6 pruned. \n",
      "[I 2023-12-15 22:26:18,354] Trial 7 pruned. \n",
      "[I 2023-12-15 22:27:10,649] Trial 8 pruned. \n",
      "[I 2023-12-15 22:27:13,409] Trial 9 pruned. \n",
      "[I 2023-12-15 22:27:16,274] Trial 10 pruned. \n",
      "[I 2023-12-15 22:27:19,047] Trial 11 pruned. \n",
      "[I 2023-12-15 22:28:30,234] Trial 12 pruned. \n",
      "[I 2023-12-15 22:28:33,064] Trial 13 pruned. \n",
      "[I 2023-12-15 22:28:41,402] Trial 14 pruned. \n",
      "[I 2023-12-15 22:28:52,404] Trial 15 pruned. \n",
      "[I 2023-12-15 22:28:55,258] Trial 16 pruned. \n",
      "[I 2023-12-15 22:28:58,055] Trial 17 pruned. \n",
      "[I 2023-12-15 22:29:09,250] Trial 18 pruned. \n",
      "[I 2023-12-15 22:29:20,253] Trial 19 pruned. \n",
      "[I 2023-12-15 22:29:22,997] Trial 20 pruned. \n",
      "[I 2023-12-15 22:29:25,862] Trial 21 pruned. \n",
      "[I 2023-12-15 22:29:36,800] Trial 22 pruned. \n",
      "[I 2023-12-15 22:34:10,971] Trial 23 finished with value: 0.0030493287742137908 and parameters: {'$\\\\sigma_1$': 7.71726673062629, '$\\\\sigma_2$': 2.1118751975534735, '$\\\\sigma_3$': 2.1526431422754806, '$\\\\sigma_4$': 3.770645388822727, '$\\\\sigma_5$': 1.9813782851433457, '$\\\\sigma_6$': 2.076938906276629, '$\\\\sigma_7$': 2.976195349906493, '$\\\\sigma_8$': 1.1081181597163487}. Best is trial 0 with value: 0.002892269231379032.\n",
      "[I 2023-12-15 22:34:35,632] Trial 24 pruned. \n",
      "[I 2023-12-15 22:34:38,440] Trial 25 pruned. \n",
      "[I 2023-12-15 22:34:41,256] Trial 26 pruned. \n",
      "[I 2023-12-15 22:34:44,065] Trial 27 pruned. \n",
      "[I 2023-12-15 22:34:49,625] Trial 28 pruned. \n",
      "[I 2023-12-15 22:36:33,892] Trial 29 pruned. \n",
      "[I 2023-12-15 22:36:36,745] Trial 30 pruned. \n",
      "[I 2023-12-15 22:36:39,524] Trial 31 pruned. \n",
      "[I 2023-12-15 22:36:42,350] Trial 32 pruned. \n",
      "[I 2023-12-15 22:36:45,140] Trial 33 pruned. \n",
      "[I 2023-12-15 22:36:53,395] Trial 34 pruned. \n",
      "[I 2023-12-15 22:36:56,265] Trial 35 pruned. \n",
      "[I 2023-12-15 22:37:01,895] Trial 36 pruned. \n",
      "[I 2023-12-15 22:37:12,966] Trial 37 pruned. \n",
      "[I 2023-12-15 22:37:15,778] Trial 38 pruned. \n",
      "[I 2023-12-15 22:37:18,573] Trial 39 pruned. \n",
      "[I 2023-12-15 22:37:26,828] Trial 40 pruned. \n",
      "[I 2023-12-15 22:37:29,628] Trial 41 pruned. \n",
      "[I 2023-12-15 22:37:32,414] Trial 42 pruned. \n",
      "[I 2023-12-15 22:37:57,155] Trial 43 pruned. \n",
      "[I 2023-12-15 22:38:02,751] Trial 44 pruned. \n",
      "[I 2023-12-15 22:38:13,826] Trial 45 pruned. \n",
      "[I 2023-12-15 22:38:16,612] Trial 46 pruned. \n",
      "[I 2023-12-15 22:38:19,472] Trial 47 pruned. \n",
      "[I 2023-12-15 22:38:33,178] Trial 48 pruned. \n",
      "[I 2023-12-15 22:38:35,971] Trial 49 pruned. \n",
      "[I 2023-12-15 22:38:38,836] Trial 50 pruned. \n",
      "[I 2023-12-15 22:38:47,084] Trial 51 pruned. \n",
      "[I 2023-12-15 22:39:01,183] Trial 52 pruned. \n",
      "[I 2023-12-15 22:40:04,046] Trial 53 pruned. \n",
      "[I 2023-12-15 22:40:06,874] Trial 54 pruned. \n",
      "[I 2023-12-15 22:41:18,394] Trial 55 pruned. \n",
      "[I 2023-12-15 22:41:40,358] Trial 56 pruned. \n",
      "[I 2023-12-15 22:41:43,171] Trial 57 pruned. \n",
      "[I 2023-12-15 22:41:45,974] Trial 58 pruned. \n",
      "[I 2023-12-15 22:41:48,818] Trial 59 pruned. \n",
      "[I 2023-12-15 22:43:32,775] Trial 60 pruned. \n",
      "[I 2023-12-15 22:43:35,585] Trial 61 pruned. \n",
      "[I 2023-12-15 22:43:38,377] Trial 62 pruned. \n",
      "[I 2023-12-15 22:44:49,800] Trial 63 pruned. \n",
      "[I 2023-12-15 22:44:52,576] Trial 64 pruned. \n",
      "[I 2023-12-15 22:45:06,360] Trial 65 pruned. \n",
      "[I 2023-12-15 22:45:11,990] Trial 66 pruned. \n",
      "[I 2023-12-15 22:45:17,569] Trial 67 pruned. \n",
      "[I 2023-12-15 22:45:25,841] Trial 68 pruned. \n",
      "[I 2023-12-15 22:45:28,562] Trial 69 pruned. \n",
      "[I 2023-12-15 22:45:36,857] Trial 70 pruned. \n",
      "[I 2023-12-15 22:45:47,746] Trial 71 pruned. \n",
      "[I 2023-12-15 22:45:50,573] Trial 72 pruned. \n",
      "[I 2023-12-15 22:45:53,337] Trial 73 pruned. \n",
      "[I 2023-12-15 22:46:15,358] Trial 74 pruned. \n",
      "[I 2023-12-15 22:47:18,417] Trial 75 pruned. \n",
      "[I 2023-12-15 22:47:21,233] Trial 76 pruned. \n",
      "[I 2023-12-15 22:47:23,990] Trial 77 pruned. \n",
      "[I 2023-12-15 22:47:35,003] Trial 78 pruned. \n",
      "[I 2023-12-15 22:47:37,833] Trial 79 pruned. \n",
      "[I 2023-12-15 22:47:40,608] Trial 80 pruned. \n",
      "[I 2023-12-15 22:49:02,908] Trial 81 pruned. \n",
      "[I 2023-12-15 22:50:14,202] Trial 82 pruned. \n",
      "[I 2023-12-15 22:50:16,976] Trial 83 pruned. \n",
      "[I 2023-12-15 22:51:28,251] Trial 84 pruned. \n",
      "[I 2023-12-15 22:51:50,296] Trial 85 pruned. \n",
      "[I 2023-12-15 22:51:53,089] Trial 86 pruned. \n",
      "[I 2023-12-15 22:51:55,911] Trial 87 pruned. \n",
      "[I 2023-12-15 22:56:30,262] Trial 88 finished with value: 0.0030478692706674337 and parameters: {'$\\\\sigma_1$': 3.615757447697579, '$\\\\sigma_2$': 1.5106623443497726, '$\\\\sigma_3$': 2.1034196600403816, '$\\\\sigma_4$': 6.655289415844896, '$\\\\sigma_5$': 5.3851451234828085, '$\\\\sigma_6$': 2.719244833470925, '$\\\\sigma_7$': 6.101254835905303, '$\\\\sigma_8$': 0.2751065080022867}. Best is trial 0 with value: 0.002892269231379032.\n",
      "[I 2023-12-15 22:56:33,091] Trial 89 pruned. \n",
      "[I 2023-12-15 22:56:35,840] Trial 90 pruned. \n",
      "[I 2023-12-15 22:56:38,713] Trial 91 pruned. \n",
      "[I 2023-12-15 22:56:41,520] Trial 92 pruned. \n",
      "[I 2023-12-15 22:56:44,348] Trial 93 pruned. \n",
      "[I 2023-12-15 23:01:18,382] Trial 94 finished with value: 0.0032082253601402044 and parameters: {'$\\\\sigma_1$': 2.429310862522733, '$\\\\sigma_2$': 1.599927841851168, '$\\\\sigma_3$': 3.0420830416271016, '$\\\\sigma_4$': 4.950479359076576, '$\\\\sigma_5$': 1.955368710431446, '$\\\\sigma_6$': 0.23442406761049206, '$\\\\sigma_7$': 6.261982224818139, '$\\\\sigma_8$': 1.311048488887962}. Best is trial 0 with value: 0.002892269231379032.\n",
      "[I 2023-12-15 23:01:21,238] Trial 95 pruned. \n",
      "[I 2023-12-15 23:02:16,038] Trial 96 pruned. \n",
      "[I 2023-12-15 23:02:18,797] Trial 97 pruned. \n",
      "[I 2023-12-15 23:02:29,828] Trial 98 pruned. \n",
      "[I 2023-12-15 23:02:32,618] Trial 99 pruned. \n"
     ]
    },
    {
     "name": "stdout",
     "output_type": "stream",
     "text": [
      "TestLoss: 0.002892269231379032\n",
      "Best hyperparameters: {'$\\\\sigma_1$': 1.9674637815020612, '$\\\\sigma_2$': 0.6676305376583513, '$\\\\sigma_3$': 1.3789817442393837, '$\\\\sigma_4$': 5.569757169324358, '$\\\\sigma_5$': 6.213179804115124, '$\\\\sigma_6$': 8.697931938935486, '$\\\\sigma_7$': 5.757243664676884, '$\\\\sigma_8$': 0.05845339583339104}\n"
     ]
    }
   ],
   "source": [
    "study = optuna.create_study(direction='minimize')\n",
    "study.optimize(objective, n_trials=100)\n",
    "\n",
    "trial = study.best_trial\n",
    "\n",
    "print('TestLoss: {}'.format(trial.value))\n",
    "print(\"Best hyperparameters: {}\".format(trial.params))"
   ]
  },
  {
   "cell_type": "code",
   "execution_count": null,
   "id": "dfcd36cb",
   "metadata": {},
   "outputs": [],
   "source": []
  },
  {
   "cell_type": "code",
   "execution_count": 16,
   "id": "c8df39b4",
   "metadata": {},
   "outputs": [
    {
     "data": {
      "text/plain": [
       "['studyOliRaylu.pkl']"
      ]
     },
     "execution_count": 16,
     "metadata": {},
     "output_type": "execute_result"
    }
   ],
   "source": [
    "import joblib\n",
    "joblib.dump(study, \"studyOliRaylu.pkl\")"
   ]
  },
  {
   "cell_type": "code",
   "execution_count": null,
   "id": "14bb4268",
   "metadata": {},
   "outputs": [],
   "source": []
  },
  {
   "cell_type": "code",
   "execution_count": 13,
   "id": "d306b1f9",
   "metadata": {},
   "outputs": [
    {
     "name": "stderr",
     "output_type": "stream",
     "text": [
      "[I 2023-12-10 18:24:22,719] A new study created in memory with name: no-name-6451a550-de93-4885-bd5d-f5d5db855a0f\n"
     ]
    },
    {
     "name": "stdout",
     "output_type": "stream",
     "text": [
      "Best trial until now:\n",
      " Value:  0.0027644899487495422\n",
      " Params: \n",
      "    $\\sigma_1$: 1.176482387324428\n",
      "    $\\sigma_2$: 0.6386994048511729\n",
      "    $\\sigma_3$: 2.067367370483998\n",
      "    $\\sigma_4$: 7.146447673167562\n",
      "    $\\sigma_5$: 5.391058327193312\n",
      "    $\\sigma_6$: 5.6204813988995745\n",
      "    $\\sigma_7$: 3.9031064867300103\n",
      "    $\\sigma_8$: 0.6459768232394092\n"
     ]
    }
   ],
   "source": [
    "import joblib\n",
    "study = optuna.create_study(direction='minimize')\n",
    "\n",
    "study = joblib.load(\"studyOliRaylu.pkl\")\n",
    "\n",
    "trial = study.best_trial\n",
    "print(\"Best trial until now:\")\n",
    "print(\" Value: \", study.best_trial.value)\n",
    "print(\" Params: \")\n",
    "for key, value in study.best_trial.params.items():\n",
    "    print(f\"    {key}: {value}\")"
   ]
  },
  {
   "cell_type": "code",
   "execution_count": 12,
   "id": "2cf2a438",
   "metadata": {},
   "outputs": [
    {
     "name": "stdout",
     "output_type": "stream",
     "text": [
      "25.204706454550433\n"
     ]
    }
   ],
   "source": [
    "print(10 * np.log10(1 / study.best_trial.value))"
   ]
  },
  {
   "cell_type": "code",
   "execution_count": null,
   "id": "10efcc69",
   "metadata": {},
   "outputs": [],
   "source": []
  },
  {
   "cell_type": "code",
   "execution_count": 29,
   "id": "cd907f26",
   "metadata": {},
   "outputs": [],
   "source": [
    "import pandas as pd\n",
    "frame1 = pd.DataFrame(study.trials_dataframe())\n",
    "frame1.to_csv('./optunaOliRaylu.csv', index=False)"
   ]
  },
  {
   "cell_type": "code",
   "execution_count": 15,
   "id": "4a86c31e",
   "metadata": {},
   "outputs": [
    {
     "data": {
      "application/vnd.plotly.v1+json": {
       "config": {
        "plotlyServerURL": "https://plot.ly"
       },
       "data": [
        {
         "colorbar": {
          "title": {
           "text": "Reconstruction error"
          }
         },
         "colorscale": [
          [
           0,
           "rgb(247,251,255)"
          ],
          [
           0.125,
           "rgb(222,235,247)"
          ],
          [
           0.25,
           "rgb(198,219,239)"
          ],
          [
           0.375,
           "rgb(158,202,225)"
          ],
          [
           0.5,
           "rgb(107,174,214)"
          ],
          [
           0.625,
           "rgb(66,146,198)"
          ],
          [
           0.75,
           "rgb(33,113,181)"
          ],
          [
           0.875,
           "rgb(8,81,156)"
          ],
          [
           1,
           "rgb(8,48,107)"
          ]
         ],
         "connectgaps": true,
         "contours": {
          "coloring": "heatmap"
         },
         "hoverinfo": "none",
         "line": {
          "smoothing": 1.3
         },
         "reversescale": true,
         "type": "contour",
         "x": [
          -0.026041497980960338,
          0.41294604890463216,
          0.5343334555836134,
          0.8142349226598468,
          1.176482387324428,
          1.4842387291211652,
          6.848609030844849,
          7.913533994424096,
          9.19269698661648,
          9.631684533502073
         ],
         "y": [
          0.06002034185777161,
          0.3270129291612456,
          0.6386994048511729,
          2.475989103046471,
          5.035884880927332,
          5.117294503139959,
          5.202237861257182,
          5.376034147925006,
          5.666864675230725,
          5.9338572625341985
         ],
         "z": [
          [
           null,
           null,
           null,
           null,
           null,
           null,
           null,
           null,
           null,
           null
          ],
          [
           null,
           null,
           null,
           null,
           null,
           null,
           0.002959038866683841,
           null,
           null,
           null
          ],
          [
           null,
           null,
           null,
           null,
           0.0027644899487495422,
           null,
           null,
           null,
           null,
           null
          ],
          [
           null,
           null,
           null,
           null,
           null,
           null,
           null,
           null,
           0.002967690983787179,
           null
          ],
          [
           null,
           0.002805540952831507,
           null,
           null,
           null,
           null,
           null,
           null,
           null,
           null
          ],
          [
           null,
           null,
           null,
           null,
           null,
           null,
           null,
           0.002853263523429632,
           null,
           null
          ],
          [
           null,
           null,
           null,
           0.0028105052933096886,
           null,
           null,
           null,
           null,
           null,
           null
          ],
          [
           null,
           null,
           null,
           null,
           null,
           0.002802350651472807,
           null,
           null,
           null,
           null
          ],
          [
           null,
           null,
           0.002814651373773813,
           null,
           null,
           null,
           null,
           null,
           null,
           null
          ],
          [
           null,
           null,
           null,
           null,
           null,
           null,
           null,
           null,
           null,
           null
          ]
         ]
        },
        {
         "marker": {
          "color": "black",
          "line": {
           "color": "Grey",
           "width": 2
          }
         },
         "mode": "markers",
         "showlegend": false,
         "type": "scatter",
         "x": [
          6.848609030844849,
          1.176482387324428,
          0.41294604890463216,
          7.913533994424096,
          9.19269698661648,
          1.4842387291211652,
          0.8142349226598468,
          0.5343334555836134
         ],
         "y": [
          0.3270129291612456,
          0.6386994048511729,
          5.035884880927332,
          5.117294503139959,
          2.475989103046471,
          5.376034147925006,
          5.202237861257182,
          5.666864675230725
         ]
        }
       ],
       "layout": {
        "template": {
         "data": {
          "bar": [
           {
            "error_x": {
             "color": "#2a3f5f"
            },
            "error_y": {
             "color": "#2a3f5f"
            },
            "marker": {
             "line": {
              "color": "#E5ECF6",
              "width": 0.5
             },
             "pattern": {
              "fillmode": "overlay",
              "size": 10,
              "solidity": 0.2
             }
            },
            "type": "bar"
           }
          ],
          "barpolar": [
           {
            "marker": {
             "line": {
              "color": "#E5ECF6",
              "width": 0.5
             },
             "pattern": {
              "fillmode": "overlay",
              "size": 10,
              "solidity": 0.2
             }
            },
            "type": "barpolar"
           }
          ],
          "carpet": [
           {
            "aaxis": {
             "endlinecolor": "#2a3f5f",
             "gridcolor": "white",
             "linecolor": "white",
             "minorgridcolor": "white",
             "startlinecolor": "#2a3f5f"
            },
            "baxis": {
             "endlinecolor": "#2a3f5f",
             "gridcolor": "white",
             "linecolor": "white",
             "minorgridcolor": "white",
             "startlinecolor": "#2a3f5f"
            },
            "type": "carpet"
           }
          ],
          "choropleth": [
           {
            "colorbar": {
             "outlinewidth": 0,
             "ticks": ""
            },
            "type": "choropleth"
           }
          ],
          "contour": [
           {
            "colorbar": {
             "outlinewidth": 0,
             "ticks": ""
            },
            "colorscale": [
             [
              0,
              "#0d0887"
             ],
             [
              0.1111111111111111,
              "#46039f"
             ],
             [
              0.2222222222222222,
              "#7201a8"
             ],
             [
              0.3333333333333333,
              "#9c179e"
             ],
             [
              0.4444444444444444,
              "#bd3786"
             ],
             [
              0.5555555555555556,
              "#d8576b"
             ],
             [
              0.6666666666666666,
              "#ed7953"
             ],
             [
              0.7777777777777778,
              "#fb9f3a"
             ],
             [
              0.8888888888888888,
              "#fdca26"
             ],
             [
              1,
              "#f0f921"
             ]
            ],
            "type": "contour"
           }
          ],
          "contourcarpet": [
           {
            "colorbar": {
             "outlinewidth": 0,
             "ticks": ""
            },
            "type": "contourcarpet"
           }
          ],
          "heatmap": [
           {
            "colorbar": {
             "outlinewidth": 0,
             "ticks": ""
            },
            "colorscale": [
             [
              0,
              "#0d0887"
             ],
             [
              0.1111111111111111,
              "#46039f"
             ],
             [
              0.2222222222222222,
              "#7201a8"
             ],
             [
              0.3333333333333333,
              "#9c179e"
             ],
             [
              0.4444444444444444,
              "#bd3786"
             ],
             [
              0.5555555555555556,
              "#d8576b"
             ],
             [
              0.6666666666666666,
              "#ed7953"
             ],
             [
              0.7777777777777778,
              "#fb9f3a"
             ],
             [
              0.8888888888888888,
              "#fdca26"
             ],
             [
              1,
              "#f0f921"
             ]
            ],
            "type": "heatmap"
           }
          ],
          "heatmapgl": [
           {
            "colorbar": {
             "outlinewidth": 0,
             "ticks": ""
            },
            "colorscale": [
             [
              0,
              "#0d0887"
             ],
             [
              0.1111111111111111,
              "#46039f"
             ],
             [
              0.2222222222222222,
              "#7201a8"
             ],
             [
              0.3333333333333333,
              "#9c179e"
             ],
             [
              0.4444444444444444,
              "#bd3786"
             ],
             [
              0.5555555555555556,
              "#d8576b"
             ],
             [
              0.6666666666666666,
              "#ed7953"
             ],
             [
              0.7777777777777778,
              "#fb9f3a"
             ],
             [
              0.8888888888888888,
              "#fdca26"
             ],
             [
              1,
              "#f0f921"
             ]
            ],
            "type": "heatmapgl"
           }
          ],
          "histogram": [
           {
            "marker": {
             "pattern": {
              "fillmode": "overlay",
              "size": 10,
              "solidity": 0.2
             }
            },
            "type": "histogram"
           }
          ],
          "histogram2d": [
           {
            "colorbar": {
             "outlinewidth": 0,
             "ticks": ""
            },
            "colorscale": [
             [
              0,
              "#0d0887"
             ],
             [
              0.1111111111111111,
              "#46039f"
             ],
             [
              0.2222222222222222,
              "#7201a8"
             ],
             [
              0.3333333333333333,
              "#9c179e"
             ],
             [
              0.4444444444444444,
              "#bd3786"
             ],
             [
              0.5555555555555556,
              "#d8576b"
             ],
             [
              0.6666666666666666,
              "#ed7953"
             ],
             [
              0.7777777777777778,
              "#fb9f3a"
             ],
             [
              0.8888888888888888,
              "#fdca26"
             ],
             [
              1,
              "#f0f921"
             ]
            ],
            "type": "histogram2d"
           }
          ],
          "histogram2dcontour": [
           {
            "colorbar": {
             "outlinewidth": 0,
             "ticks": ""
            },
            "colorscale": [
             [
              0,
              "#0d0887"
             ],
             [
              0.1111111111111111,
              "#46039f"
             ],
             [
              0.2222222222222222,
              "#7201a8"
             ],
             [
              0.3333333333333333,
              "#9c179e"
             ],
             [
              0.4444444444444444,
              "#bd3786"
             ],
             [
              0.5555555555555556,
              "#d8576b"
             ],
             [
              0.6666666666666666,
              "#ed7953"
             ],
             [
              0.7777777777777778,
              "#fb9f3a"
             ],
             [
              0.8888888888888888,
              "#fdca26"
             ],
             [
              1,
              "#f0f921"
             ]
            ],
            "type": "histogram2dcontour"
           }
          ],
          "mesh3d": [
           {
            "colorbar": {
             "outlinewidth": 0,
             "ticks": ""
            },
            "type": "mesh3d"
           }
          ],
          "parcoords": [
           {
            "line": {
             "colorbar": {
              "outlinewidth": 0,
              "ticks": ""
             }
            },
            "type": "parcoords"
           }
          ],
          "pie": [
           {
            "automargin": true,
            "type": "pie"
           }
          ],
          "scatter": [
           {
            "fillpattern": {
             "fillmode": "overlay",
             "size": 10,
             "solidity": 0.2
            },
            "type": "scatter"
           }
          ],
          "scatter3d": [
           {
            "line": {
             "colorbar": {
              "outlinewidth": 0,
              "ticks": ""
             }
            },
            "marker": {
             "colorbar": {
              "outlinewidth": 0,
              "ticks": ""
             }
            },
            "type": "scatter3d"
           }
          ],
          "scattercarpet": [
           {
            "marker": {
             "colorbar": {
              "outlinewidth": 0,
              "ticks": ""
             }
            },
            "type": "scattercarpet"
           }
          ],
          "scattergeo": [
           {
            "marker": {
             "colorbar": {
              "outlinewidth": 0,
              "ticks": ""
             }
            },
            "type": "scattergeo"
           }
          ],
          "scattergl": [
           {
            "marker": {
             "colorbar": {
              "outlinewidth": 0,
              "ticks": ""
             }
            },
            "type": "scattergl"
           }
          ],
          "scattermapbox": [
           {
            "marker": {
             "colorbar": {
              "outlinewidth": 0,
              "ticks": ""
             }
            },
            "type": "scattermapbox"
           }
          ],
          "scatterpolar": [
           {
            "marker": {
             "colorbar": {
              "outlinewidth": 0,
              "ticks": ""
             }
            },
            "type": "scatterpolar"
           }
          ],
          "scatterpolargl": [
           {
            "marker": {
             "colorbar": {
              "outlinewidth": 0,
              "ticks": ""
             }
            },
            "type": "scatterpolargl"
           }
          ],
          "scatterternary": [
           {
            "marker": {
             "colorbar": {
              "outlinewidth": 0,
              "ticks": ""
             }
            },
            "type": "scatterternary"
           }
          ],
          "surface": [
           {
            "colorbar": {
             "outlinewidth": 0,
             "ticks": ""
            },
            "colorscale": [
             [
              0,
              "#0d0887"
             ],
             [
              0.1111111111111111,
              "#46039f"
             ],
             [
              0.2222222222222222,
              "#7201a8"
             ],
             [
              0.3333333333333333,
              "#9c179e"
             ],
             [
              0.4444444444444444,
              "#bd3786"
             ],
             [
              0.5555555555555556,
              "#d8576b"
             ],
             [
              0.6666666666666666,
              "#ed7953"
             ],
             [
              0.7777777777777778,
              "#fb9f3a"
             ],
             [
              0.8888888888888888,
              "#fdca26"
             ],
             [
              1,
              "#f0f921"
             ]
            ],
            "type": "surface"
           }
          ],
          "table": [
           {
            "cells": {
             "fill": {
              "color": "#EBF0F8"
             },
             "line": {
              "color": "white"
             }
            },
            "header": {
             "fill": {
              "color": "#C8D4E3"
             },
             "line": {
              "color": "white"
             }
            },
            "type": "table"
           }
          ]
         },
         "layout": {
          "annotationdefaults": {
           "arrowcolor": "#2a3f5f",
           "arrowhead": 0,
           "arrowwidth": 1
          },
          "autotypenumbers": "strict",
          "coloraxis": {
           "colorbar": {
            "outlinewidth": 0,
            "ticks": ""
           }
          },
          "colorscale": {
           "diverging": [
            [
             0,
             "#8e0152"
            ],
            [
             0.1,
             "#c51b7d"
            ],
            [
             0.2,
             "#de77ae"
            ],
            [
             0.3,
             "#f1b6da"
            ],
            [
             0.4,
             "#fde0ef"
            ],
            [
             0.5,
             "#f7f7f7"
            ],
            [
             0.6,
             "#e6f5d0"
            ],
            [
             0.7,
             "#b8e186"
            ],
            [
             0.8,
             "#7fbc41"
            ],
            [
             0.9,
             "#4d9221"
            ],
            [
             1,
             "#276419"
            ]
           ],
           "sequential": [
            [
             0,
             "#0d0887"
            ],
            [
             0.1111111111111111,
             "#46039f"
            ],
            [
             0.2222222222222222,
             "#7201a8"
            ],
            [
             0.3333333333333333,
             "#9c179e"
            ],
            [
             0.4444444444444444,
             "#bd3786"
            ],
            [
             0.5555555555555556,
             "#d8576b"
            ],
            [
             0.6666666666666666,
             "#ed7953"
            ],
            [
             0.7777777777777778,
             "#fb9f3a"
            ],
            [
             0.8888888888888888,
             "#fdca26"
            ],
            [
             1,
             "#f0f921"
            ]
           ],
           "sequentialminus": [
            [
             0,
             "#0d0887"
            ],
            [
             0.1111111111111111,
             "#46039f"
            ],
            [
             0.2222222222222222,
             "#7201a8"
            ],
            [
             0.3333333333333333,
             "#9c179e"
            ],
            [
             0.4444444444444444,
             "#bd3786"
            ],
            [
             0.5555555555555556,
             "#d8576b"
            ],
            [
             0.6666666666666666,
             "#ed7953"
            ],
            [
             0.7777777777777778,
             "#fb9f3a"
            ],
            [
             0.8888888888888888,
             "#fdca26"
            ],
            [
             1,
             "#f0f921"
            ]
           ]
          },
          "colorway": [
           "#636efa",
           "#EF553B",
           "#00cc96",
           "#ab63fa",
           "#FFA15A",
           "#19d3f3",
           "#FF6692",
           "#B6E880",
           "#FF97FF",
           "#FECB52"
          ],
          "font": {
           "color": "#2a3f5f"
          },
          "geo": {
           "bgcolor": "white",
           "lakecolor": "white",
           "landcolor": "#E5ECF6",
           "showlakes": true,
           "showland": true,
           "subunitcolor": "white"
          },
          "hoverlabel": {
           "align": "left"
          },
          "hovermode": "closest",
          "mapbox": {
           "style": "light"
          },
          "paper_bgcolor": "white",
          "plot_bgcolor": "#E5ECF6",
          "polar": {
           "angularaxis": {
            "gridcolor": "white",
            "linecolor": "white",
            "ticks": ""
           },
           "bgcolor": "#E5ECF6",
           "radialaxis": {
            "gridcolor": "white",
            "linecolor": "white",
            "ticks": ""
           }
          },
          "scene": {
           "xaxis": {
            "backgroundcolor": "#E5ECF6",
            "gridcolor": "white",
            "gridwidth": 2,
            "linecolor": "white",
            "showbackground": true,
            "ticks": "",
            "zerolinecolor": "white"
           },
           "yaxis": {
            "backgroundcolor": "#E5ECF6",
            "gridcolor": "white",
            "gridwidth": 2,
            "linecolor": "white",
            "showbackground": true,
            "ticks": "",
            "zerolinecolor": "white"
           },
           "zaxis": {
            "backgroundcolor": "#E5ECF6",
            "gridcolor": "white",
            "gridwidth": 2,
            "linecolor": "white",
            "showbackground": true,
            "ticks": "",
            "zerolinecolor": "white"
           }
          },
          "shapedefaults": {
           "line": {
            "color": "#2a3f5f"
           }
          },
          "ternary": {
           "aaxis": {
            "gridcolor": "white",
            "linecolor": "white",
            "ticks": ""
           },
           "baxis": {
            "gridcolor": "white",
            "linecolor": "white",
            "ticks": ""
           },
           "bgcolor": "#E5ECF6",
           "caxis": {
            "gridcolor": "white",
            "linecolor": "white",
            "ticks": ""
           }
          },
          "title": {
           "x": 0.05
          },
          "xaxis": {
           "automargin": true,
           "gridcolor": "white",
           "linecolor": "white",
           "ticks": "",
           "title": {
            "standoff": 15
           },
           "zerolinecolor": "white",
           "zerolinewidth": 2
          },
          "yaxis": {
           "automargin": true,
           "gridcolor": "white",
           "linecolor": "white",
           "ticks": "",
           "title": {
            "standoff": 15
           },
           "zerolinecolor": "white",
           "zerolinewidth": 2
          }
         }
        },
        "title": {
         "text": ""
        },
        "xaxis": {
         "range": [
          -0.026041497980960338,
          9.631684533502073
         ],
         "title": {
          "text": "$\\sigma_1$"
         }
        },
        "yaxis": {
         "range": [
          0.06002034185777161,
          5.9338572625341985
         ],
         "title": {
          "text": "$\\sigma_2$"
         }
        }
       }
      },
      "text/html": [
       "<div>                            <div id=\"1afd1818-96d6-4334-b2d2-f85c77b20018\" class=\"plotly-graph-div\" style=\"height:525px; width:100%;\"></div>            <script type=\"text/javascript\">                require([\"plotly\"], function(Plotly) {                    window.PLOTLYENV=window.PLOTLYENV || {};                                    if (document.getElementById(\"1afd1818-96d6-4334-b2d2-f85c77b20018\")) {                    Plotly.newPlot(                        \"1afd1818-96d6-4334-b2d2-f85c77b20018\",                        [{\"colorbar\":{\"title\":{\"text\":\"Reconstruction error\"}},\"colorscale\":[[0.0,\"rgb(247,251,255)\"],[0.125,\"rgb(222,235,247)\"],[0.25,\"rgb(198,219,239)\"],[0.375,\"rgb(158,202,225)\"],[0.5,\"rgb(107,174,214)\"],[0.625,\"rgb(66,146,198)\"],[0.75,\"rgb(33,113,181)\"],[0.875,\"rgb(8,81,156)\"],[1.0,\"rgb(8,48,107)\"]],\"connectgaps\":true,\"contours\":{\"coloring\":\"heatmap\"},\"hoverinfo\":\"none\",\"line\":{\"smoothing\":1.3},\"reversescale\":true,\"x\":[-0.026041497980960338,0.41294604890463216,0.5343334555836134,0.8142349226598468,1.176482387324428,1.4842387291211652,6.848609030844849,7.913533994424096,9.19269698661648,9.631684533502073],\"y\":[0.06002034185777161,0.3270129291612456,0.6386994048511729,2.475989103046471,5.035884880927332,5.117294503139959,5.202237861257182,5.376034147925006,5.666864675230725,5.9338572625341985],\"z\":[[null,null,null,null,null,null,null,null,null,null],[null,null,null,null,null,null,0.002959038866683841,null,null,null],[null,null,null,null,0.0027644899487495422,null,null,null,null,null],[null,null,null,null,null,null,null,null,0.002967690983787179,null],[null,0.002805540952831507,null,null,null,null,null,null,null,null],[null,null,null,null,null,null,null,0.002853263523429632,null,null],[null,null,null,0.0028105052933096886,null,null,null,null,null,null],[null,null,null,null,null,0.002802350651472807,null,null,null,null],[null,null,0.002814651373773813,null,null,null,null,null,null,null],[null,null,null,null,null,null,null,null,null,null]],\"type\":\"contour\"},{\"marker\":{\"color\":\"black\",\"line\":{\"color\":\"Grey\",\"width\":2.0}},\"mode\":\"markers\",\"showlegend\":false,\"x\":[6.848609030844849,1.176482387324428,0.41294604890463216,7.913533994424096,9.19269698661648,1.4842387291211652,0.8142349226598468,0.5343334555836134],\"y\":[0.3270129291612456,0.6386994048511729,5.035884880927332,5.117294503139959,2.475989103046471,5.376034147925006,5.202237861257182,5.666864675230725],\"type\":\"scatter\"}],                        {\"title\":{\"text\":\"\"},\"template\":{\"data\":{\"histogram2dcontour\":[{\"type\":\"histogram2dcontour\",\"colorbar\":{\"outlinewidth\":0,\"ticks\":\"\"},\"colorscale\":[[0.0,\"#0d0887\"],[0.1111111111111111,\"#46039f\"],[0.2222222222222222,\"#7201a8\"],[0.3333333333333333,\"#9c179e\"],[0.4444444444444444,\"#bd3786\"],[0.5555555555555556,\"#d8576b\"],[0.6666666666666666,\"#ed7953\"],[0.7777777777777778,\"#fb9f3a\"],[0.8888888888888888,\"#fdca26\"],[1.0,\"#f0f921\"]]}],\"choropleth\":[{\"type\":\"choropleth\",\"colorbar\":{\"outlinewidth\":0,\"ticks\":\"\"}}],\"histogram2d\":[{\"type\":\"histogram2d\",\"colorbar\":{\"outlinewidth\":0,\"ticks\":\"\"},\"colorscale\":[[0.0,\"#0d0887\"],[0.1111111111111111,\"#46039f\"],[0.2222222222222222,\"#7201a8\"],[0.3333333333333333,\"#9c179e\"],[0.4444444444444444,\"#bd3786\"],[0.5555555555555556,\"#d8576b\"],[0.6666666666666666,\"#ed7953\"],[0.7777777777777778,\"#fb9f3a\"],[0.8888888888888888,\"#fdca26\"],[1.0,\"#f0f921\"]]}],\"heatmap\":[{\"type\":\"heatmap\",\"colorbar\":{\"outlinewidth\":0,\"ticks\":\"\"},\"colorscale\":[[0.0,\"#0d0887\"],[0.1111111111111111,\"#46039f\"],[0.2222222222222222,\"#7201a8\"],[0.3333333333333333,\"#9c179e\"],[0.4444444444444444,\"#bd3786\"],[0.5555555555555556,\"#d8576b\"],[0.6666666666666666,\"#ed7953\"],[0.7777777777777778,\"#fb9f3a\"],[0.8888888888888888,\"#fdca26\"],[1.0,\"#f0f921\"]]}],\"heatmapgl\":[{\"type\":\"heatmapgl\",\"colorbar\":{\"outlinewidth\":0,\"ticks\":\"\"},\"colorscale\":[[0.0,\"#0d0887\"],[0.1111111111111111,\"#46039f\"],[0.2222222222222222,\"#7201a8\"],[0.3333333333333333,\"#9c179e\"],[0.4444444444444444,\"#bd3786\"],[0.5555555555555556,\"#d8576b\"],[0.6666666666666666,\"#ed7953\"],[0.7777777777777778,\"#fb9f3a\"],[0.8888888888888888,\"#fdca26\"],[1.0,\"#f0f921\"]]}],\"contourcarpet\":[{\"type\":\"contourcarpet\",\"colorbar\":{\"outlinewidth\":0,\"ticks\":\"\"}}],\"contour\":[{\"type\":\"contour\",\"colorbar\":{\"outlinewidth\":0,\"ticks\":\"\"},\"colorscale\":[[0.0,\"#0d0887\"],[0.1111111111111111,\"#46039f\"],[0.2222222222222222,\"#7201a8\"],[0.3333333333333333,\"#9c179e\"],[0.4444444444444444,\"#bd3786\"],[0.5555555555555556,\"#d8576b\"],[0.6666666666666666,\"#ed7953\"],[0.7777777777777778,\"#fb9f3a\"],[0.8888888888888888,\"#fdca26\"],[1.0,\"#f0f921\"]]}],\"surface\":[{\"type\":\"surface\",\"colorbar\":{\"outlinewidth\":0,\"ticks\":\"\"},\"colorscale\":[[0.0,\"#0d0887\"],[0.1111111111111111,\"#46039f\"],[0.2222222222222222,\"#7201a8\"],[0.3333333333333333,\"#9c179e\"],[0.4444444444444444,\"#bd3786\"],[0.5555555555555556,\"#d8576b\"],[0.6666666666666666,\"#ed7953\"],[0.7777777777777778,\"#fb9f3a\"],[0.8888888888888888,\"#fdca26\"],[1.0,\"#f0f921\"]]}],\"mesh3d\":[{\"type\":\"mesh3d\",\"colorbar\":{\"outlinewidth\":0,\"ticks\":\"\"}}],\"scatter\":[{\"fillpattern\":{\"fillmode\":\"overlay\",\"size\":10,\"solidity\":0.2},\"type\":\"scatter\"}],\"parcoords\":[{\"type\":\"parcoords\",\"line\":{\"colorbar\":{\"outlinewidth\":0,\"ticks\":\"\"}}}],\"scatterpolargl\":[{\"type\":\"scatterpolargl\",\"marker\":{\"colorbar\":{\"outlinewidth\":0,\"ticks\":\"\"}}}],\"bar\":[{\"error_x\":{\"color\":\"#2a3f5f\"},\"error_y\":{\"color\":\"#2a3f5f\"},\"marker\":{\"line\":{\"color\":\"#E5ECF6\",\"width\":0.5},\"pattern\":{\"fillmode\":\"overlay\",\"size\":10,\"solidity\":0.2}},\"type\":\"bar\"}],\"scattergeo\":[{\"type\":\"scattergeo\",\"marker\":{\"colorbar\":{\"outlinewidth\":0,\"ticks\":\"\"}}}],\"scatterpolar\":[{\"type\":\"scatterpolar\",\"marker\":{\"colorbar\":{\"outlinewidth\":0,\"ticks\":\"\"}}}],\"histogram\":[{\"marker\":{\"pattern\":{\"fillmode\":\"overlay\",\"size\":10,\"solidity\":0.2}},\"type\":\"histogram\"}],\"scattergl\":[{\"type\":\"scattergl\",\"marker\":{\"colorbar\":{\"outlinewidth\":0,\"ticks\":\"\"}}}],\"scatter3d\":[{\"type\":\"scatter3d\",\"line\":{\"colorbar\":{\"outlinewidth\":0,\"ticks\":\"\"}},\"marker\":{\"colorbar\":{\"outlinewidth\":0,\"ticks\":\"\"}}}],\"scattermapbox\":[{\"type\":\"scattermapbox\",\"marker\":{\"colorbar\":{\"outlinewidth\":0,\"ticks\":\"\"}}}],\"scatterternary\":[{\"type\":\"scatterternary\",\"marker\":{\"colorbar\":{\"outlinewidth\":0,\"ticks\":\"\"}}}],\"scattercarpet\":[{\"type\":\"scattercarpet\",\"marker\":{\"colorbar\":{\"outlinewidth\":0,\"ticks\":\"\"}}}],\"carpet\":[{\"aaxis\":{\"endlinecolor\":\"#2a3f5f\",\"gridcolor\":\"white\",\"linecolor\":\"white\",\"minorgridcolor\":\"white\",\"startlinecolor\":\"#2a3f5f\"},\"baxis\":{\"endlinecolor\":\"#2a3f5f\",\"gridcolor\":\"white\",\"linecolor\":\"white\",\"minorgridcolor\":\"white\",\"startlinecolor\":\"#2a3f5f\"},\"type\":\"carpet\"}],\"table\":[{\"cells\":{\"fill\":{\"color\":\"#EBF0F8\"},\"line\":{\"color\":\"white\"}},\"header\":{\"fill\":{\"color\":\"#C8D4E3\"},\"line\":{\"color\":\"white\"}},\"type\":\"table\"}],\"barpolar\":[{\"marker\":{\"line\":{\"color\":\"#E5ECF6\",\"width\":0.5},\"pattern\":{\"fillmode\":\"overlay\",\"size\":10,\"solidity\":0.2}},\"type\":\"barpolar\"}],\"pie\":[{\"automargin\":true,\"type\":\"pie\"}]},\"layout\":{\"autotypenumbers\":\"strict\",\"colorway\":[\"#636efa\",\"#EF553B\",\"#00cc96\",\"#ab63fa\",\"#FFA15A\",\"#19d3f3\",\"#FF6692\",\"#B6E880\",\"#FF97FF\",\"#FECB52\"],\"font\":{\"color\":\"#2a3f5f\"},\"hovermode\":\"closest\",\"hoverlabel\":{\"align\":\"left\"},\"paper_bgcolor\":\"white\",\"plot_bgcolor\":\"#E5ECF6\",\"polar\":{\"bgcolor\":\"#E5ECF6\",\"angularaxis\":{\"gridcolor\":\"white\",\"linecolor\":\"white\",\"ticks\":\"\"},\"radialaxis\":{\"gridcolor\":\"white\",\"linecolor\":\"white\",\"ticks\":\"\"}},\"ternary\":{\"bgcolor\":\"#E5ECF6\",\"aaxis\":{\"gridcolor\":\"white\",\"linecolor\":\"white\",\"ticks\":\"\"},\"baxis\":{\"gridcolor\":\"white\",\"linecolor\":\"white\",\"ticks\":\"\"},\"caxis\":{\"gridcolor\":\"white\",\"linecolor\":\"white\",\"ticks\":\"\"}},\"coloraxis\":{\"colorbar\":{\"outlinewidth\":0,\"ticks\":\"\"}},\"colorscale\":{\"sequential\":[[0.0,\"#0d0887\"],[0.1111111111111111,\"#46039f\"],[0.2222222222222222,\"#7201a8\"],[0.3333333333333333,\"#9c179e\"],[0.4444444444444444,\"#bd3786\"],[0.5555555555555556,\"#d8576b\"],[0.6666666666666666,\"#ed7953\"],[0.7777777777777778,\"#fb9f3a\"],[0.8888888888888888,\"#fdca26\"],[1.0,\"#f0f921\"]],\"sequentialminus\":[[0.0,\"#0d0887\"],[0.1111111111111111,\"#46039f\"],[0.2222222222222222,\"#7201a8\"],[0.3333333333333333,\"#9c179e\"],[0.4444444444444444,\"#bd3786\"],[0.5555555555555556,\"#d8576b\"],[0.6666666666666666,\"#ed7953\"],[0.7777777777777778,\"#fb9f3a\"],[0.8888888888888888,\"#fdca26\"],[1.0,\"#f0f921\"]],\"diverging\":[[0,\"#8e0152\"],[0.1,\"#c51b7d\"],[0.2,\"#de77ae\"],[0.3,\"#f1b6da\"],[0.4,\"#fde0ef\"],[0.5,\"#f7f7f7\"],[0.6,\"#e6f5d0\"],[0.7,\"#b8e186\"],[0.8,\"#7fbc41\"],[0.9,\"#4d9221\"],[1,\"#276419\"]]},\"xaxis\":{\"gridcolor\":\"white\",\"linecolor\":\"white\",\"ticks\":\"\",\"title\":{\"standoff\":15},\"zerolinecolor\":\"white\",\"automargin\":true,\"zerolinewidth\":2},\"yaxis\":{\"gridcolor\":\"white\",\"linecolor\":\"white\",\"ticks\":\"\",\"title\":{\"standoff\":15},\"zerolinecolor\":\"white\",\"automargin\":true,\"zerolinewidth\":2},\"scene\":{\"xaxis\":{\"backgroundcolor\":\"#E5ECF6\",\"gridcolor\":\"white\",\"linecolor\":\"white\",\"showbackground\":true,\"ticks\":\"\",\"zerolinecolor\":\"white\",\"gridwidth\":2},\"yaxis\":{\"backgroundcolor\":\"#E5ECF6\",\"gridcolor\":\"white\",\"linecolor\":\"white\",\"showbackground\":true,\"ticks\":\"\",\"zerolinecolor\":\"white\",\"gridwidth\":2},\"zaxis\":{\"backgroundcolor\":\"#E5ECF6\",\"gridcolor\":\"white\",\"linecolor\":\"white\",\"showbackground\":true,\"ticks\":\"\",\"zerolinecolor\":\"white\",\"gridwidth\":2}},\"shapedefaults\":{\"line\":{\"color\":\"#2a3f5f\"}},\"annotationdefaults\":{\"arrowcolor\":\"#2a3f5f\",\"arrowhead\":0,\"arrowwidth\":1},\"geo\":{\"bgcolor\":\"white\",\"landcolor\":\"#E5ECF6\",\"subunitcolor\":\"white\",\"showland\":true,\"showlakes\":true,\"lakecolor\":\"white\"},\"title\":{\"x\":0.05},\"mapbox\":{\"style\":\"light\"}}},\"xaxis\":{\"title\":{\"text\":\"$\\\\sigma_1$\"},\"range\":[-0.026041497980960338,9.631684533502073]},\"yaxis\":{\"title\":{\"text\":\"$\\\\sigma_2$\"},\"range\":[0.06002034185777161,5.9338572625341985]}},                        {\"responsive\": true}                    ).then(function(){\n",
       "                            \n",
       "var gd = document.getElementById('1afd1818-96d6-4334-b2d2-f85c77b20018');\n",
       "var x = new MutationObserver(function (mutations, observer) {{\n",
       "        var display = window.getComputedStyle(gd).display;\n",
       "        if (!display || display === 'none') {{\n",
       "            console.log([gd, 'removed!']);\n",
       "            Plotly.purge(gd);\n",
       "            observer.disconnect();\n",
       "        }}\n",
       "}});\n",
       "\n",
       "// Listen for the removal of the full notebook cells\n",
       "var notebookContainer = gd.closest('#notebook-container');\n",
       "if (notebookContainer) {{\n",
       "    x.observe(notebookContainer, {childList: true});\n",
       "}}\n",
       "\n",
       "// Listen for the clearing of the current output cell\n",
       "var outputEl = gd.closest('.output');\n",
       "if (outputEl) {{\n",
       "    x.observe(outputEl, {childList: true});\n",
       "}}\n",
       "\n",
       "                        })                };                });            </script>        </div>"
      ]
     },
     "metadata": {},
     "output_type": "display_data"
    }
   ],
   "source": [
    "fig = optuna.visualization.plot_contour(study, params=[\"$\\sigma_1$\", \"$\\sigma_2$\"]) \n",
    "fig.update_layout(title='',xaxis_title='$\\sigma_1$',yaxis_title='$\\sigma_2$')\n",
    "fig['data'][0]['colorbar']['title']['text']='Reconstruction error'\n",
    "fig.show()"
   ]
  },
  {
   "cell_type": "code",
   "execution_count": 5,
   "id": "6b88fb7b",
   "metadata": {},
   "outputs": [],
   "source": [
    "class Pgelu2(nn.Module): \n",
    "    def __init__(self, sigma=1.0):\n",
    "        super().__init__()\n",
    "        self.sigma = sigma\n",
    "\n",
    "    def forward(self, input):\n",
    "        \n",
    "        temp2=input/2*(1+torch.erf(input/math.sqrt(2)/self.sigma))\n",
    "        return temp2"
   ]
  },
  {
   "cell_type": "code",
   "execution_count": 19,
   "id": "e0b36e64",
   "metadata": {},
   "outputs": [],
   "source": [
    "class Encoder2(nn.Module):\n",
    "    \n",
    "    def __init__(self):\n",
    "        super().__init__()\n",
    "        \n",
    "      #  self.func = nn.ReLU(True)\n",
    "        \n",
    "        ### Convolutional section\n",
    "        self.encoder_cnn = nn.Sequential(\n",
    "            # First convolutional layer\n",
    "            nn.Conv2d(1, 16, 3, stride=2, padding=1),\n",
    "            nn.BatchNorm2d(16),\n",
    "            Pgelu2(1.176482387324428),\n",
    "            # Second convolutional layer\n",
    "            nn.Conv2d(16, 32, 3, stride=2, padding=1),\n",
    "            nn.BatchNorm2d(32),\n",
    "            Pgelu2(0.6386994048511729),\n",
    "            # Third convolutional layer\n",
    "            nn.Conv2d(32, 64, 3, stride=2, padding=1),\n",
    "            nn.BatchNorm2d(64),\n",
    "            Pgelu2(2.067367370483998)\n",
    "        )\n",
    "        \n",
    "        ### Flatten layer\n",
    "        self.flatten = nn.Flatten(start_dim=1)        \n",
    "\n",
    "        ### Linear section\n",
    "        self.encoder_lin = nn.Sequential(\n",
    "            # First linear layer\n",
    "            nn.Linear(8 * 8 * 64, 256),\n",
    "            Pgelu2(7.146447673167562),\n",
    "            # Second linear layer\n",
    "            nn.Linear(256, 30)\n",
    "        )\n",
    "        \n",
    "    def forward(self, x):\n",
    "        # Apply convolutions\n",
    "\n",
    "        x = self.encoder_cnn(x)\n",
    "        # Flatten\n",
    "        x = self.flatten(x)\n",
    "        # # Apply linear layers\n",
    "        x = self.encoder_lin(x)\n",
    "        return x"
   ]
  },
  {
   "cell_type": "code",
   "execution_count": 20,
   "id": "eb85ac59",
   "metadata": {},
   "outputs": [],
   "source": [
    "class Decoder2(nn.Module):\n",
    "    \n",
    "    def __init__(self):\n",
    "        super().__init__()\n",
    "\n",
    "        ### Linear section\n",
    "        self.decoder_lin = nn.Sequential(\n",
    "            # First linear layer\n",
    "            nn.Linear(30, 256),\n",
    "            Pgelu2(5.391058327193312),\n",
    "            # Second linear layer\n",
    "            nn.Linear(256, 8 * 8 * 64),\n",
    "            Pgelu2(5.6204813988995745)\n",
    "        )\n",
    "        \n",
    "        ### Unflatten\n",
    "        self.unflatten = nn.Unflatten(dim=1, unflattened_size=(64, 8, 8))\n",
    "\n",
    "        ### Convolutional section\n",
    "        self.decoder_conv = nn.Sequential(\n",
    "            # First transposed convolution\n",
    "            nn.ConvTranspose2d(64, 32, 3, stride=2,padding=1, output_padding=1),\n",
    "            nn.BatchNorm2d(32),\n",
    "            Pgelu2(3.9031064867300103),\n",
    "            \n",
    "            nn.ConvTranspose2d(32, 16, 3, stride=2,padding=1, output_padding=1),\n",
    "            nn.BatchNorm2d(16),\n",
    "            Pgelu2(0.6459768232394092),\n",
    "           \n",
    "            \n",
    "            # Second transposed convolution\n",
    "            nn.ConvTranspose2d(16, 1, 3, stride=2, padding=1, output_padding=1),\n",
    "        )\n",
    "        \n",
    "    def forward(self, x):\n",
    "        # Apply linear layers\n",
    "        x = self.decoder_lin(x)\n",
    "        # Unflatten\n",
    "        x = self.unflatten(x)\n",
    "        # Apply transposed convolutions\n",
    "        x = self.decoder_conv(x)\n",
    "        # Apply a sigmoid to force the output to be between 0 and 1 (valid pixel values)\n",
    "        x = torch.sigmoid(x)\n",
    "        return x"
   ]
  },
  {
   "cell_type": "code",
   "execution_count": 21,
   "id": "d4aee63e",
   "metadata": {},
   "outputs": [],
   "source": [
    "seed = 0  \n",
    "torch.manual_seed(seed)\n",
    "\n",
    "\n",
    "torch.cuda.manual_seed_all(seed)\n",
    "\n",
    "\n",
    "torch.backends.cudnn.deterministic = True\n",
    "\n",
    "\n",
    "np.random.seed(seed)\n",
    "\n",
    "if torch.cuda.is_available():\n",
    "    torch.cuda.manual_seed(seed)\n",
    "    torch.cuda.manual_seed_all(seed)\n",
    "\n",
    "random.seed(seed)\n",
    "\n",
    "\n",
    "device = torch.device(\"cuda\" if torch.cuda.is_available() else \"cpu\")\n",
    "encoder = Encoder2().to(device)\n",
    "decoder = Decoder2().to(device)\n",
    "criterion = nn.MSELoss()\n",
    "optimizer = optim.Adam(list(encoder.parameters()) + list(decoder.parameters()), lr=0.001)\n",
    "\n",
    "epochs = 100"
   ]
  },
  {
   "cell_type": "code",
   "execution_count": 22,
   "id": "44d81017",
   "metadata": {},
   "outputs": [],
   "source": [
    "\n",
    "def train(encoder, decoder, train_loader, criterion, optimizer, device):\n",
    "    encoder.train()\n",
    "    decoder.train()\n",
    "    train_loss = 0.0\n",
    "\n",
    "    for data in train_loader:\n",
    "        inputs, _ = data\n",
    "        inputs = inputs.to(device)\n",
    "\n",
    "      \n",
    "        optimizer.zero_grad()\n",
    "\n",
    "      \n",
    "        encoded = encoder(inputs)\n",
    "        outputs = decoder(encoded)\n",
    "\n",
    "       \n",
    "        loss = criterion(outputs, inputs)\n",
    "\n",
    "    \n",
    "        loss.backward()\n",
    "        optimizer.step()\n",
    "        \n",
    "        \n",
    "        \n",
    "        \n",
    "        \n",
    "\n",
    "        train_loss += loss.item() * inputs.size(0)\n",
    "        \n",
    "\n",
    "    return train_loss / len(train_loader.dataset)\n",
    "\n",
    "def test(encoder, decoder, test_loader, criterion, device):\n",
    "    encoder.eval()\n",
    "    decoder.eval()\n",
    "    test_loss = 0.0\n",
    "    global lowest_test_loss\n",
    "    global epochBest\n",
    "    global test_loss_save\n",
    "\n",
    "    with torch.no_grad():\n",
    "        for data in test_loader:\n",
    "            inputs, _ = data\n",
    "            \n",
    "            inputs = inputs.to(device)\n",
    "\n",
    "            # Forward pass\n",
    "            encoded = encoder(inputs)\n",
    "            outputs = decoder(encoded)\n",
    "\n",
    "            # Compute the loss\n",
    "            loss = criterion(outputs, inputs)\n",
    "\n",
    "            test_loss += loss.item() * inputs.size(0)\n",
    "            \n",
    "    \n",
    "    \n",
    "    testLossTemp = test_loss / len(test_loader.dataset)\n",
    "    \n",
    "    if testLossTemp < lowest_test_loss and epoch>10:\n",
    "        lowest_test_loss = testLossTemp\n",
    "        # Save the model's parameters to a .pt file\n",
    "        torch.save(encoder.state_dict(), 'CONVencoderOpPgelu.pt')\n",
    "        torch.save(decoder.state_dict(), 'CONVdecoderOpPgelu.pt')\n",
    "        epochBest = epoch\n",
    "        print(f'Epoch {epochBest}, testLoss update to {lowest_test_loss:.4f}!')\n",
    "    \n",
    "    \n",
    "    test_loss_save.append(testLossTemp)\n",
    "    return testLossTemp"
   ]
  },
  {
   "cell_type": "code",
   "execution_count": 19,
   "id": "9e17083d",
   "metadata": {},
   "outputs": [
    {
     "name": "stdout",
     "output_type": "stream",
     "text": [
      "Epoch 1/100, Train Loss: 0.0145, Test Loss: 0.0072，Test PSNR: 21.4039\n",
      "Epoch 2/100, Train Loss: 0.0063, Test Loss: 0.0053，Test PSNR: 22.7707\n",
      "Epoch 3/100, Train Loss: 0.0050, Test Loss: 0.0046，Test PSNR: 23.3667\n",
      "Epoch 4/100, Train Loss: 0.0046, Test Loss: 0.0044，Test PSNR: 23.5947\n",
      "Epoch 5/100, Train Loss: 0.0043, Test Loss: 0.0042，Test PSNR: 23.8030\n",
      "Epoch 6/100, Train Loss: 0.0041, Test Loss: 0.0040，Test PSNR: 24.0080\n",
      "Epoch 7/100, Train Loss: 0.0039, Test Loss: 0.0038，Test PSNR: 24.1715\n",
      "Epoch 8/100, Train Loss: 0.0037, Test Loss: 0.0038，Test PSNR: 24.2546\n",
      "Epoch 9/100, Train Loss: 0.0035, Test Loss: 0.0036，Test PSNR: 24.4144\n",
      "Epoch 10/100, Train Loss: 0.0034, Test Loss: 0.0035，Test PSNR: 24.5284\n",
      "Epoch 11/100, Train Loss: 0.0032, Test Loss: 0.0034，Test PSNR: 24.6400\n",
      "Epoch 11, testLoss update to 0.0033!\n",
      "Epoch 12/100, Train Loss: 0.0031, Test Loss: 0.0033，Test PSNR: 24.8245\n",
      "Epoch 12, testLoss update to 0.0032!\n",
      "Epoch 13/100, Train Loss: 0.0029, Test Loss: 0.0032，Test PSNR: 24.9257\n",
      "Epoch 13, testLoss update to 0.0032!\n",
      "Epoch 14/100, Train Loss: 0.0028, Test Loss: 0.0032，Test PSNR: 25.0017\n",
      "Epoch 14, testLoss update to 0.0031!\n",
      "Epoch 15/100, Train Loss: 0.0027, Test Loss: 0.0031，Test PSNR: 25.0730\n",
      "Epoch 16/100, Train Loss: 0.0026, Test Loss: 0.0031，Test PSNR: 25.0449\n",
      "Epoch 16, testLoss update to 0.0031!\n",
      "Epoch 17/100, Train Loss: 0.0025, Test Loss: 0.0031，Test PSNR: 25.1035\n",
      "Epoch 17, testLoss update to 0.0030!\n",
      "Epoch 18/100, Train Loss: 0.0024, Test Loss: 0.0030，Test PSNR: 25.1698\n",
      "Epoch 18, testLoss update to 0.0030!\n",
      "Epoch 19/100, Train Loss: 0.0023, Test Loss: 0.0030，Test PSNR: 25.2763\n",
      "Epoch 19, testLoss update to 0.0029!\n",
      "Epoch 20/100, Train Loss: 0.0022, Test Loss: 0.0029，Test PSNR: 25.3406\n",
      "Epoch 20, testLoss update to 0.0029!\n",
      "Epoch 21/100, Train Loss: 0.0021, Test Loss: 0.0029，Test PSNR: 25.4413\n",
      "Epoch 22/100, Train Loss: 0.0021, Test Loss: 0.0029，Test PSNR: 25.3438\n",
      "Epoch 22, testLoss update to 0.0028!\n",
      "Epoch 23/100, Train Loss: 0.0020, Test Loss: 0.0028，Test PSNR: 25.4876\n",
      "Epoch 24/100, Train Loss: 0.0020, Test Loss: 0.0029，Test PSNR: 25.3426\n",
      "Epoch 25/100, Train Loss: 0.0019, Test Loss: 0.0028，Test PSNR: 25.4630\n",
      "Epoch 26/100, Train Loss: 0.0018, Test Loss: 0.0029，Test PSNR: 25.3134\n",
      "Epoch 26, testLoss update to 0.0028!\n",
      "Epoch 27/100, Train Loss: 0.0018, Test Loss: 0.0028，Test PSNR: 25.5991\n",
      "Epoch 28/100, Train Loss: 0.0018, Test Loss: 0.0028，Test PSNR: 25.5537\n",
      "Epoch 29/100, Train Loss: 0.0018, Test Loss: 0.0028，Test PSNR: 25.5105\n",
      "Epoch 30/100, Train Loss: 0.0017, Test Loss: 0.0029，Test PSNR: 25.3932\n",
      "Epoch 30, testLoss update to 0.0028!\n",
      "Epoch 31/100, Train Loss: 0.0016, Test Loss: 0.0028，Test PSNR: 25.6043\n",
      "Epoch 31, testLoss update to 0.0027!\n",
      "Epoch 32/100, Train Loss: 0.0016, Test Loss: 0.0027，Test PSNR: 25.6528\n",
      "Epoch 33/100, Train Loss: 0.0016, Test Loss: 0.0028，Test PSNR: 25.4906\n",
      "Epoch 34/100, Train Loss: 0.0016, Test Loss: 0.0028，Test PSNR: 25.5550\n",
      "Epoch 35/100, Train Loss: 0.0015, Test Loss: 0.0027，Test PSNR: 25.6216\n",
      "Epoch 36/100, Train Loss: 0.0015, Test Loss: 0.0027，Test PSNR: 25.6253\n",
      "Epoch 37/100, Train Loss: 0.0015, Test Loss: 0.0028，Test PSNR: 25.5066\n",
      "Epoch 37, testLoss update to 0.0027!\n",
      "Epoch 38/100, Train Loss: 0.0015, Test Loss: 0.0027，Test PSNR: 25.6530\n",
      "Epoch 39/100, Train Loss: 0.0014, Test Loss: 0.0027，Test PSNR: 25.6479\n",
      "Epoch 39, testLoss update to 0.0027!\n",
      "Epoch 40/100, Train Loss: 0.0014, Test Loss: 0.0027，Test PSNR: 25.6605\n",
      "Epoch 40, testLoss update to 0.0027!\n",
      "Epoch 41/100, Train Loss: 0.0014, Test Loss: 0.0027，Test PSNR: 25.6739\n",
      "Epoch 42/100, Train Loss: 0.0014, Test Loss: 0.0028，Test PSNR: 25.5965\n",
      "Epoch 43/100, Train Loss: 0.0013, Test Loss: 0.0027，Test PSNR: 25.6108\n",
      "Epoch 44/100, Train Loss: 0.0013, Test Loss: 0.0028，Test PSNR: 25.5479\n",
      "Epoch 45/100, Train Loss: 0.0014, Test Loss: 0.0027，Test PSNR: 25.6503\n",
      "Epoch 46/100, Train Loss: 0.0013, Test Loss: 0.0029，Test PSNR: 25.3149\n",
      "Epoch 47/100, Train Loss: 0.0014, Test Loss: 0.0027，Test PSNR: 25.6569\n",
      "Epoch 48/100, Train Loss: 0.0013, Test Loss: 0.0028，Test PSNR: 25.5224\n",
      "Epoch 49/100, Train Loss: 0.0013, Test Loss: 0.0028，Test PSNR: 25.4850\n",
      "Epoch 49, testLoss update to 0.0027!\n",
      "Epoch 50/100, Train Loss: 0.0013, Test Loss: 0.0027，Test PSNR: 25.7000\n",
      "Epoch 51/100, Train Loss: 0.0012, Test Loss: 0.0027，Test PSNR: 25.6819\n",
      "Epoch 52/100, Train Loss: 0.0012, Test Loss: 0.0030，Test PSNR: 25.2127\n",
      "Epoch 53/100, Train Loss: 0.0012, Test Loss: 0.0027，Test PSNR: 25.6676\n",
      "Epoch 53, testLoss update to 0.0027!\n",
      "Epoch 54/100, Train Loss: 0.0012, Test Loss: 0.0027，Test PSNR: 25.7015\n",
      "Epoch 55/100, Train Loss: 0.0012, Test Loss: 0.0027，Test PSNR: 25.6336\n",
      "Epoch 56/100, Train Loss: 0.0012, Test Loss: 0.0027，Test PSNR: 25.6818\n",
      "Epoch 57/100, Train Loss: 0.0012, Test Loss: 0.0027，Test PSNR: 25.6294\n",
      "Epoch 58/100, Train Loss: 0.0011, Test Loss: 0.0027，Test PSNR: 25.6783\n",
      "Epoch 59/100, Train Loss: 0.0011, Test Loss: 0.0028，Test PSNR: 25.6040\n",
      "Epoch 60/100, Train Loss: 0.0011, Test Loss: 0.0029，Test PSNR: 25.3425\n",
      "Epoch 61/100, Train Loss: 0.0011, Test Loss: 0.0027，Test PSNR: 25.6784\n",
      "Epoch 62/100, Train Loss: 0.0011, Test Loss: 0.0028，Test PSNR: 25.5202\n",
      "Epoch 63/100, Train Loss: 0.0011, Test Loss: 0.0027，Test PSNR: 25.6438\n",
      "Epoch 64/100, Train Loss: 0.0010, Test Loss: 0.0027，Test PSNR: 25.6297\n",
      "Epoch 65/100, Train Loss: 0.0010, Test Loss: 0.0027，Test PSNR: 25.6721\n",
      "Epoch 66/100, Train Loss: 0.0011, Test Loss: 0.0027，Test PSNR: 25.6408\n",
      "Epoch 67/100, Train Loss: 0.0010, Test Loss: 0.0027，Test PSNR: 25.6672\n",
      "Epoch 68/100, Train Loss: 0.0011, Test Loss: 0.0027，Test PSNR: 25.6779\n",
      "Epoch 69/100, Train Loss: 0.0010, Test Loss: 0.0028，Test PSNR: 25.5933\n",
      "Epoch 70/100, Train Loss: 0.0010, Test Loss: 0.0028，Test PSNR: 25.5379\n",
      "Epoch 70, testLoss update to 0.0027!\n",
      "Epoch 71/100, Train Loss: 0.0010, Test Loss: 0.0027，Test PSNR: 25.7019\n",
      "Epoch 72/100, Train Loss: 0.0010, Test Loss: 0.0027，Test PSNR: 25.6667\n",
      "Epoch 73/100, Train Loss: 0.0010, Test Loss: 0.0027，Test PSNR: 25.6671\n",
      "Epoch 74/100, Train Loss: 0.0010, Test Loss: 0.0027，Test PSNR: 25.6429\n",
      "Epoch 75/100, Train Loss: 0.0010, Test Loss: 0.0027，Test PSNR: 25.6216\n",
      "Epoch 76/100, Train Loss: 0.0010, Test Loss: 0.0027，Test PSNR: 25.6175\n",
      "Epoch 77/100, Train Loss: 0.0010, Test Loss: 0.0028，Test PSNR: 25.6032\n",
      "Epoch 78/100, Train Loss: 0.0010, Test Loss: 0.0028，Test PSNR: 25.5591\n",
      "Epoch 79/100, Train Loss: 0.0010, Test Loss: 0.0027，Test PSNR: 25.6471\n",
      "Epoch 80/100, Train Loss: 0.0010, Test Loss: 0.0027，Test PSNR: 25.6100\n",
      "Epoch 81/100, Train Loss: 0.0010, Test Loss: 0.0027，Test PSNR: 25.6376\n",
      "Epoch 82/100, Train Loss: 0.0009, Test Loss: 0.0027，Test PSNR: 25.6165\n",
      "Epoch 83/100, Train Loss: 0.0009, Test Loss: 0.0028，Test PSNR: 25.5929\n",
      "Epoch 84/100, Train Loss: 0.0009, Test Loss: 0.0027，Test PSNR: 25.6487\n",
      "Epoch 85/100, Train Loss: 0.0009, Test Loss: 0.0027，Test PSNR: 25.6528\n",
      "Epoch 86/100, Train Loss: 0.0009, Test Loss: 0.0028，Test PSNR: 25.5788\n",
      "Epoch 87/100, Train Loss: 0.0010, Test Loss: 0.0028，Test PSNR: 25.5915\n",
      "Epoch 88/100, Train Loss: 0.0009, Test Loss: 0.0028，Test PSNR: 25.5715\n",
      "Epoch 89/100, Train Loss: 0.0009, Test Loss: 0.0027，Test PSNR: 25.6104\n",
      "Epoch 90/100, Train Loss: 0.0009, Test Loss: 0.0028，Test PSNR: 25.5684\n",
      "Epoch 91/100, Train Loss: 0.0009, Test Loss: 0.0028，Test PSNR: 25.5605\n",
      "Epoch 92/100, Train Loss: 0.0009, Test Loss: 0.0028，Test PSNR: 25.5351\n",
      "Epoch 93/100, Train Loss: 0.0009, Test Loss: 0.0027，Test PSNR: 25.6126\n",
      "Epoch 94/100, Train Loss: 0.0009, Test Loss: 0.0028，Test PSNR: 25.5619\n",
      "Epoch 95/100, Train Loss: 0.0009, Test Loss: 0.0028，Test PSNR: 25.4778\n",
      "Epoch 96/100, Train Loss: 0.0009, Test Loss: 0.0028，Test PSNR: 25.5619\n",
      "Epoch 97/100, Train Loss: 0.0009, Test Loss: 0.0028，Test PSNR: 25.5609\n",
      "Epoch 98/100, Train Loss: 0.0009, Test Loss: 0.0028，Test PSNR: 25.5850\n",
      "Epoch 99/100, Train Loss: 0.0008, Test Loss: 0.0028，Test PSNR: 25.5623\n",
      "Epoch 100/100, Train Loss: 0.0008, Test Loss: 0.0027，Test PSNR: 25.6305\n"
     ]
    },
    {
     "data": {
      "text/plain": [
       "<All keys matched successfully>"
      ]
     },
     "execution_count": 19,
     "metadata": {},
     "output_type": "execute_result"
    }
   ],
   "source": [
    "test_loss_save = []\n",
    "lowest_test_loss = float('inf')\n",
    "epochBest = 0\n",
    "\n",
    "\n",
    "\n",
    "for epoch in range(epochs):\n",
    "    train_loss = train(encoder, decoder, train_loader, criterion, optimizer, device)\n",
    "    test_loss = test(encoder, decoder, test_loader, criterion, device)\n",
    "    test_PSNR = 10 * np.log10(1 / test_loss)\n",
    "    print(f\"Epoch {epoch+1}/{epochs}, Train Loss: {train_loss:.4f}, Test Loss: {test_loss:.4f}，Test PSNR: {test_PSNR:.4f}\")\n",
    "    \n",
    "encoder.load_state_dict(torch.load('CONVencoderOpPgelu.pt'))\n",
    "decoder.load_state_dict(torch.load('CONVdecoderOpPgelu.pt'))"
   ]
  },
  {
   "cell_type": "code",
   "execution_count": 23,
   "id": "4d42776a",
   "metadata": {},
   "outputs": [
    {
     "data": {
      "text/plain": [
       "<All keys matched successfully>"
      ]
     },
     "execution_count": 23,
     "metadata": {},
     "output_type": "execute_result"
    }
   ],
   "source": [
    "encoder.load_state_dict(torch.load('CONVencoderOpPgelu.pt'))\n",
    "decoder.load_state_dict(torch.load('CONVdecoderOpPgelu.pt'))"
   ]
  },
  {
   "cell_type": "code",
   "execution_count": 24,
   "id": "02f58b3e",
   "metadata": {},
   "outputs": [
    {
     "data": {
      "image/png": "[encoded data removed]",
      "text/plain": [
       "<Figure size 720x360 with 5 Axes>"
      ]
     },
     "metadata": {
      "needs_background": "light"
     },
     "output_type": "display_data"
    }
   ],
   "source": [
    "import matplotlib.pyplot as plt\n",
    "import torchvision.transforms.functional as TF  \n",
    "\n",
    "\n",
    "start_index = 0  \n",
    "end_index = 5  \n",
    "\n",
    "indexs = range(start_index, end_index)\n",
    "\n",
    "\n",
    "selected_images = []\n",
    "\n",
    "for idx in indexs:\n",
    "    \n",
    "    image, label = test_dataset[idx]\n",
    "\n",
    "    \n",
    "    image = TF.to_pil_image(image)  \n",
    "\n",
    "    \n",
    "    selected_images.append(image)\n",
    "\n",
    "\n",
    "plt.figure(figsize=(10, 5))\n",
    "for i in range(len(selected_images)):\n",
    "    plt.subplot(1, len(selected_images), i + 1)\n",
    "    plt.imshow(selected_images[i], cmap='gray') \n",
    "    plt.title(f\"Image {i + 1}\")\n",
    "    plt.axis('off')\n",
    "\n",
    "plt.tight_layout()\n",
    "plt.show()"
   ]
  },
  {
   "cell_type": "code",
   "execution_count": 25,
   "id": "f19be95b",
   "metadata": {},
   "outputs": [],
   "source": [
    "\n",
    "reconstructed_images1 = []\n",
    "\n",
    "\n",
    "encoder.eval()\n",
    "decoder.eval()\n",
    "\n",
    "\n",
    "transform2 = transforms.Compose([\n",
    "    transforms.Grayscale(num_output_channels=1),\n",
    "    transforms.ToTensor(),\n",
    "])\n",
    "\n",
    "with torch.no_grad():\n",
    "    for image in selected_images:\n",
    "        \n",
    "        image_tensor = transform2(image).unsqueeze(dim=0)  \n",
    "        image_tensor = image_tensor.to(device)\n",
    "\n",
    "        \n",
    "        reconstructed_image = decoder(encoder(image_tensor))\n",
    "        reconstructed_pil_image = TF.to_pil_image(reconstructed_image.squeeze().cpu())\n",
    "\n",
    "        \n",
    "        reconstructed_images1.append(reconstructed_pil_image)"
   ]
  },
  {
   "cell_type": "code",
   "execution_count": 26,
   "id": "bb3cebe4",
   "metadata": {
    "scrolled": false
   },
   "outputs": [
    {
     "name": "stderr",
     "output_type": "stream",
     "text": [
      "D:\\anaconda3\\envs\\pytorch\\lib\\site-packages\\ipykernel_launcher.py:22: MatplotlibDeprecationWarning: \n",
      "The 'quality' parameter of print_jpg() was deprecated in Matplotlib 3.3 and will be removed two minor releases later. Use pil_kwargs={'quality': ...} instead. If any parameter follows 'quality', they should be passed as keyword, not positionally.\n"
     ]
    },
    {
     "data": {
      "image/png": "[encoded data removed]",
      "text/plain": [
       "<Figure size 864x432 with 10 Axes>"
      ]
     },
     "metadata": {
      "needs_background": "light"
     },
     "output_type": "display_data"
    }
   ],
   "source": [
    "\n",
    "fig, axs = plt.subplots(2, 5, figsize=(12, 6))\n",
    "\n",
    "\n",
    "\n",
    "for i in range(5):\n",
    "    axs[0, i].imshow(selected_images[i], cmap='gray')\n",
    "    axs[0, i].axis('off')\n",
    "\n",
    "\n",
    "for i in range(5):\n",
    "    axs[1, i].imshow(reconstructed_images1[i], cmap='gray')\n",
    "    axs[1, i].axis('off')\n",
    "\n",
    "\n",
    "axs[0, 2].set_title('Original Images', fontsize=18)\n",
    "axs[1, 2].set_title('Reconstructed Images', fontsize=18)\n",
    "\n",
    "\n",
    "\n",
    "plt.tight_layout()\n",
    "plt.savefig('output_imageOptunaPgelu.jpg', dpi=150, quality=95)  \n",
    "plt.show()"
   ]
  },
  {
   "cell_type": "code",
   "execution_count": 49,
   "id": "3cf52462",
   "metadata": {},
   "outputs": [
    {
     "data": {
      "text/plain": [
       "0.0026903284154832364"
      ]
     },
     "execution_count": 49,
     "metadata": {},
     "output_type": "execute_result"
    }
   ],
   "source": [
    "lowest_test_loss"
   ]
  }
 ],
 "metadata": {
  "kernelspec": {
   "display_name": "Python 3",
   "language": "python",
   "name": "python3"
  },
  "language_info": {
   "codemirror_mode": {
    "name": "ipython",
    "version": 3
   },
   "file_extension": ".py",
   "mimetype": "text/x-python",
   "name": "python",
   "nbconvert_exporter": "python",
   "pygments_lexer": "ipython3",
   "version": "3.7.10"
  }
 },
 "nbformat": 4,
 "nbformat_minor": 5
}
